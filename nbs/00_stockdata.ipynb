{
 "cells": [
  {
   "cell_type": "markdown",
   "metadata": {},
   "source": [
    "# stockdata\n",
    "\n",
    "> This module does the following: 1) Pull latest data from NSE 2) Calculate various technical indicators 3) Save the updated, generated data."
   ]
  },
  {
   "cell_type": "code",
   "execution_count": null,
   "metadata": {},
   "outputs": [],
   "source": [
    "#| default_exp stockdata"
   ]
  },
  {
   "cell_type": "code",
   "execution_count": null,
   "metadata": {},
   "outputs": [],
   "source": [
    "#| export\n",
    "import pandas as pd\n",
    "from datetime import datetime\n",
    "import requests\n",
    "import zipfile\n",
    "import io\n",
    "import time\n",
    "import random\n",
    "from pathlib import Path\n",
    "import nbdev"
   ]
  },
  {
   "cell_type": "code",
   "execution_count": null,
   "metadata": {},
   "outputs": [],
   "source": [
    "#| export\n",
    "base_path = nbdev.config.get_config().lib_path"
   ]
  },
  {
   "cell_type": "code",
   "execution_count": null,
   "metadata": {},
   "outputs": [],
   "source": [
    "#| export\n",
    "def _fetch_daily_bhavcopy(year, month, day, random_delay=False):\n",
    "\n",
    "    nse_url = \"https://archives.nseindia.com/content/historical/EQUITIES\"\n",
    "    nse_url_2 = \"https://www1.nseindia.com/content/historical/EQUITIES\"\n",
    "\n",
    "    user_agents_list = [\n",
    "        'Mozilla/5.0 (iPad; CPU OS 12_2 like Mac OS X) AppleWebKit/605.1.15 (KHTML, like Gecko) Mobile/15E148',\n",
    "        'Mozilla/5.0 (Macintosh; Intel Mac OS X 10_15_7) AppleWebKit/537.36 (KHTML, like Gecko) Chrome/99.0.4844.83 Safari/537.36',\n",
    "        'Mozilla/5.0 (Windows NT 10.0; Win64; x64) AppleWebKit/537.36 (KHTML, like Gecko) Chrome/99.0.4844.51 Safari/537.36'\n",
    "    ]\n",
    "\n",
    "    \"\"\"Fetches bhavcopy data for a given date, unzips and saves to local path\"\"\"\n",
    "    # Define paths\n",
    "    file_name = f\"cm{day:02}{month}{year}bhav.csv.zip\"\n",
    "    file_url = f\"{nse_url}/{year}/{month}/{file_name}\"\n",
    "    file_url_2 = f\"{nse_url_2}/{year}/{month}/{file_name}\"\n",
    "    zip_path = base_path / f\"../Data/Bhavcopy/Zips/cm{day:02}{month}{year}bhav.csv.zip\"\n",
    "    unzip_dir = base_path / \"../Data/Bhavcopy/Raw\"\n",
    "\n",
    "    # If file exists, unzip and save to local path\n",
    "    if Path(zip_path).is_file():\n",
    "        print(f\"File {file_name} already exists.. unzipping\")\n",
    "        with zipfile.ZipFile(zip_path, 'r') as zip_ref:\n",
    "                zip_ref.extractall(unzip_dir)\n",
    "    else:\n",
    "        if random_delay:\n",
    "            time.sleep(random.randint(1, 10))\n",
    "\n",
    "        headers = headers={'User-Agent': random.choice(user_agents_list)}\n",
    "        print(f\"Downloading:{file_url}\")\n",
    "\n",
    "        with requests.Session() as s:\n",
    "            r = s.get(file_url, allow_redirects=False, headers=headers)\n",
    "\n",
    "            if r.status_code != 200:    \n",
    "                print(f\"Status: {r.status_code}: {file_url}\")\n",
    "                r = s.get(file_url_2, allow_redirects=False, headers=headers)\n",
    "\n",
    "            if r.status_code != 200:\n",
    "                print(f\"Status: {r.status_code}: {file_url_2}\")\n",
    "                print(f\"~~~~~~~~~~~~> Error downloading file: {file_name}\")\n",
    "                # raise Exception(f\"Error downloading file: {file_name}\")\n",
    "            else:\n",
    "                open(zip_path, \"wb\").write(r.content)\n",
    "                with zipfile.ZipFile(io.BytesIO(r.content)) as zip_ref:\n",
    "                    zip_ref.extractall(unzip_dir)\n",
    "                    print(f\"Processed file: {file_name}\")"
   ]
  },
  {
   "cell_type": "code",
   "execution_count": null,
   "metadata": {},
   "outputs": [],
   "source": [
    "#| export\n",
    "\n",
    "def fetch_bhavcopy_data_for_range(start_date, end_date):\n",
    "    \"\"\"Fetches bhavcopy data for a given date range and returns a pandas dataframe\"\"\"\n",
    "    for d in pd.date_range(start_date, end_date):\n",
    "        # Get Year, Month, Day\n",
    "        year = d.year\n",
    "        month = d.strftime(\"%B\").upper()[:3]\n",
    "        day = d.date().strftime(\"%d\")\n",
    "        \n",
    "        # If weekday, process file\n",
    "        if 0 <= d.weekday() < 5:\n",
    "            _fetch_daily_bhavcopy(year, month, day, random_delay=True)"
   ]
  },
  {
   "cell_type": "code",
   "execution_count": null,
   "metadata": {},
   "outputs": [
    {
     "name": "stdout",
     "output_type": "stream",
     "text": [
      "File cm01FEB2023bhav.csv.zip already exists.. unzipping\n",
      "File cm02FEB2023bhav.csv.zip already exists.. unzipping\n",
      "File cm03FEB2023bhav.csv.zip already exists.. unzipping\n",
      "Downloading:https://archives.nseindia.com/content/historical/EQUITIES/2023/FEB/cm06FEB2023bhav.csv.zip\n",
      "Processed file: cm06FEB2023bhav.csv.zip\n",
      "Downloading:https://archives.nseindia.com/content/historical/EQUITIES/2023/FEB/cm07FEB2023bhav.csv.zip\n",
      "Processed file: cm07FEB2023bhav.csv.zip\n",
      "Downloading:https://archives.nseindia.com/content/historical/EQUITIES/2023/FEB/cm08FEB2023bhav.csv.zip\n",
      "Processed file: cm08FEB2023bhav.csv.zip\n",
      "Downloading:https://archives.nseindia.com/content/historical/EQUITIES/2023/FEB/cm09FEB2023bhav.csv.zip\n",
      "Processed file: cm09FEB2023bhav.csv.zip\n",
      "Downloading:https://archives.nseindia.com/content/historical/EQUITIES/2023/FEB/cm10FEB2023bhav.csv.zip\n",
      "Processed file: cm10FEB2023bhav.csv.zip\n"
     ]
    }
   ],
   "source": [
    "# Define date range\n",
    "start_date = datetime(2023, 2, 11)\n",
    "end_date = datetime.now()\n",
    "\n",
    "# Fetch data from NSE\n",
    "fetch_bhavcopy_data_for_range(start_date, end_date)"
   ]
  },
  {
   "cell_type": "code",
   "execution_count": null,
   "metadata": {},
   "outputs": [],
   "source": [
    "#| hide\n",
    "import nbdev; nbdev.nbdev_export()"
   ]
  }
 ],
 "metadata": {
  "kernelspec": {
   "display_name": "p310_trading",
   "language": "python",
   "name": "python3"
  }
 },
 "nbformat": 4,
 "nbformat_minor": 4
}
