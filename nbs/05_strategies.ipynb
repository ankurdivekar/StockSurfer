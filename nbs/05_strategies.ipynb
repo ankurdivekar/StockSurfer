{
 "cells": [
  {
   "attachments": {},
   "cell_type": "markdown",
   "metadata": {},
   "source": [
    "# strategies\n",
    "\n",
    "> This module implements various strategies for stockpicking for intraday, swing and long-term positions."
   ]
  },
  {
   "cell_type": "code",
   "execution_count": null,
   "metadata": {},
   "outputs": [],
   "source": [
    "# | default_exp strategies"
   ]
  },
  {
   "cell_type": "code",
   "execution_count": null,
   "metadata": {},
   "outputs": [],
   "source": [
    "# | hide\n",
    "from nbdev.showdoc import *"
   ]
  },
  {
   "cell_type": "code",
   "execution_count": null,
   "metadata": {},
   "outputs": [],
   "source": [
    "# | export\n",
    "import pandas as pd\n",
    "import os\n",
    "import nbdev\n",
    "from stocksurfer.filters import *"
   ]
  },
  {
   "cell_type": "code",
   "execution_count": null,
   "metadata": {},
   "outputs": [],
   "source": [
    "# | export\n",
    "base_path = nbdev.config.get_config().lib_path"
   ]
  },
  {
   "cell_type": "code",
   "execution_count": null,
   "metadata": {},
   "outputs": [],
   "source": [
    "# | export\n",
    "processed_data_dir = base_path / \"../Data/Bhavcopy/Processed/\"\n",
    "nifty500_csv = base_path / \"../Data/Misc/ind_nifty500list.csv\""
   ]
  },
  {
   "attachments": {},
   "cell_type": "markdown",
   "metadata": {},
   "source": [
    "# Helper functions for filtering stocks with a given strategy."
   ]
  },
  {
   "cell_type": "code",
   "execution_count": null,
   "metadata": {},
   "outputs": [],
   "source": [
    "# filter_stocks(\n",
    "#     symbols=\"all\",\n",
    "#     # timeframe=\"weekly\",\n",
    "#     # cutoff_date=datetime(2023, 2, 11),\n",
    "#     strategy=volume_surge,\n",
    "#     # lookback = 5,\n",
    "#     # n_detections=1,\n",
    "#     strategy_args={\"window\": 15, \"surge_factor\": 4},\n",
    "# )"
   ]
  },
  {
   "cell_type": "code",
   "execution_count": null,
   "metadata": {},
   "outputs": [],
   "source": [
    "# filter_stocks(\n",
    "#     # symbols=\"all\",\n",
    "#     # timeframe=\"weekly\",\n",
    "#     # cutoff_date=datetime(2023, 2, 11),\n",
    "#     strategy=bollinger_squeeze,\n",
    "#     # lookback = 5,\n",
    "#     # n_detections=1,\n",
    "#     strategy_args={\"window\": 15},\n",
    "# )"
   ]
  },
  {
   "cell_type": "code",
   "execution_count": null,
   "metadata": {},
   "outputs": [],
   "source": [
    "# | hide\n",
    "nbdev.nbdev_export()"
   ]
  }
 ],
 "metadata": {
  "kernelspec": {
   "display_name": "python3",
   "language": "python",
   "name": "python3"
  }
 },
 "nbformat": 4,
 "nbformat_minor": 4
}
