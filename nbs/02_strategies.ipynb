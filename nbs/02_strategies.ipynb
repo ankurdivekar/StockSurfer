{
 "cells": [
  {
   "cell_type": "markdown",
   "metadata": {},
   "source": [
    "# strategies\n",
    "\n",
    "> This module implements various strategies for stockpicking for intraday, swing and long-term positions."
   ]
  },
  {
   "cell_type": "code",
   "execution_count": null,
   "metadata": {},
   "outputs": [],
   "source": [
    "# | default_exp strategies"
   ]
  },
  {
   "cell_type": "code",
   "execution_count": null,
   "metadata": {},
   "outputs": [],
   "source": [
    "# | hide\n",
    "from nbdev.showdoc import *"
   ]
  },
  {
   "cell_type": "code",
   "execution_count": null,
   "metadata": {},
   "outputs": [],
   "source": [
    "# | export\n",
    "import pandas as pd\n",
    "import os\n",
    "import nbdev"
   ]
  },
  {
   "cell_type": "code",
   "execution_count": null,
   "metadata": {},
   "outputs": [],
   "source": [
    "# | export\n",
    "base_path = nbdev.config.get_config().lib_path"
   ]
  },
  {
   "cell_type": "code",
   "execution_count": null,
   "metadata": {},
   "outputs": [],
   "source": [
    "# | export\n",
    "processed_data_dir = base_path / \"../Data/Bhavcopy/Processed/\"\n",
    "\n",
    "# Get Nifty500 list\n",
    "csv_path = base_path / \"../Data/Misc/ind_nifty500list.csv\"\n",
    "df500 = pd.read_csv(csv_path).Symbol.to_list()"
   ]
  },
  {
   "attachments": {},
   "cell_type": "markdown",
   "metadata": {},
   "source": [
    "20 SMA HALT STRATEGY"
   ]
  },
  {
   "cell_type": "code",
   "execution_count": null,
   "metadata": {},
   "outputs": [],
   "source": [
    "# | export\n",
    "def check_directional_crossover(df, col1, col2, days_lookback=7):\n",
    "    days_lookback = min(days_lookback + 1, df.shape[0])\n",
    "    for d in range(1, days_lookback):\n",
    "        # print(f\"Checking for {df.DATE.iloc[-d]}: {df[col1].iloc[-d]}, {df[col2].iloc[-d]}\")\n",
    "        if (\n",
    "            df[col1].iloc[-d] > df[col2].iloc[-d]\n",
    "            and df[col1].iloc[-d - 1] < df[col2].iloc[-d - 1]\n",
    "        ):\n",
    "            # print(f\"{col1} crossed over {col2} on {df.DATE.iloc[-d]} : {d} days ago\")\n",
    "            return d\n",
    "    return 0"
   ]
  },
  {
   "cell_type": "code",
   "execution_count": null,
   "metadata": {},
   "outputs": [],
   "source": [
    "# | export\n",
    "def get_symbol_data(symbol):\n",
    "    file_path = base_path / processed_data_dir / f\"{symbol}.csv\"\n",
    "    if file_path.exists():\n",
    "        # print(f\"File exists: {file_path}\")\n",
    "        return pd.read_csv(file_path, parse_dates=[\"DATE\"]).assign(\n",
    "            DATE=lambda x: x.DATE.dt.strftime(\"%d %b %Y\")\n",
    "        )\n",
    "    else:\n",
    "        # print(f\"File does not exist: {file_path}\")\n",
    "        return None"
   ]
  },
  {
   "cell_type": "code",
   "execution_count": null,
   "metadata": {},
   "outputs": [],
   "source": [
    "# | export\n",
    "def check_close_under_falling_20(df, d, days_lookback=10):\n",
    "    df = df.iloc[-d - days_lookback : -d]\n",
    "    # print(df.DATE.iloc[0], df.DATE.iloc[-1])\n",
    "    # df.plot(x=\"DATE\", y=[\"CLOSE\", \"SMA_20_C\"], figsize=(15, 5))\n",
    "    # df.plot(x=\"DATE\", y=[\"CLOSE\", \"SMA_20_C\", \"SMA_20_H\"], figsize=(15, 5))\n",
    "    # print(df.SMA_20_C.is_monotonic_decreasing, df.SMA_20_H.is_monotonic_decreasing)\n",
    "    return all(\n",
    "        [\n",
    "            any(\n",
    "                [\n",
    "                    df.SMA_20_C.is_monotonic_decreasing,\n",
    "                    df.SMA_20_H.is_monotonic_decreasing,\n",
    "                    df.SMA_44_C.is_monotonic_decreasing,\n",
    "                ]\n",
    "            ),\n",
    "            any(\n",
    "                [\n",
    "                    all(df.CLOSE < df.SMA_20_H),\n",
    "                    # all(df.CLOSE < df.SMA_20_C)\n",
    "                ]\n",
    "            ),\n",
    "            # all(df.SMA_200_C < df.SMA_20_C)\n",
    "        ]\n",
    "    )\n",
    "\n",
    "\n",
    "# check_close_under_20(df, 15, 18)"
   ]
  },
  {
   "cell_type": "code",
   "execution_count": null,
   "metadata": {},
   "outputs": [],
   "source": [
    "# | export\n",
    "def check_close_above_20(df, d, days_lookfwd=3):\n",
    "    df = df.iloc[-d + 1 :].head(days_lookfwd)\n",
    "    # print(df)\n",
    "    # print(df.DATE.iloc[0], df.DATE.iloc[-1])\n",
    "    # df.plot(x=\"DATE\", y=[\"CLOSE\", \"SMA_20_C\"], figsize=(15, 5))\n",
    "    return all(df.CLOSE > df.SMA_20_C)  # df.SMA_20_C.is_monotonic_increasing and"
   ]
  },
  {
   "cell_type": "code",
   "execution_count": null,
   "metadata": {},
   "outputs": [],
   "source": [
    "# | export\n",
    "def check_20_200_breakout(df, days_lookback=5):\n",
    "    found = False\n",
    "    col1 = \"CLOSE\"\n",
    "    col2 = \"SMA_20_C\"\n",
    "    col3 = \"SMA_200_C\"\n",
    "    col4 = \"SMA_20_H\"\n",
    "    # df = df[:-45]\n",
    "\n",
    "    # Check for double crossover on SMA20 and SMA200 within a 3 day period\n",
    "    dc20 = check_directional_crossover(df, col1, col2, days_lookback=days_lookback)\n",
    "    if all(\n",
    "        [\n",
    "            dc20 > 0,\n",
    "            check_close_under_falling_20(df, dc20, days_lookback=30),\n",
    "            check_close_above_20(df, dc20),\n",
    "        ]\n",
    "    ):\n",
    "        found = True\n",
    "        dc200 = check_directional_crossover(df, col1, col3, days_lookback=days_lookback)\n",
    "        # print(dc20, dc200)\n",
    "\n",
    "        if all([dc200 > 0, abs(dc20 - dc200) < 3]):\n",
    "            print(\n",
    "                f\"{df.SYMBOL.iloc[0]} -> Double crossover on {df.DATE.iloc[-dc20]} : {dc20} days ago, with {df.iloc[-dc20].CDL_COLOR} candle\"\n",
    "            )\n",
    "        else:\n",
    "            print(\n",
    "                f\"{df.SYMBOL.iloc[0]} -> SMA20 crossover on {df.DATE.iloc[-dc20]} : {dc20} days ago, with {df.iloc[-dc20].CDL_COLOR} candle\"\n",
    "            )\n",
    "            if dc200:\n",
    "                print(\n",
    "                    f\"{df.SYMBOL.iloc[0]} -> SMA 200 crossover: {df.DATE.iloc[-dc200]} : {dc200} days ago, with {df.iloc[-dc200].CDL_COLOR} candle\"\n",
    "                )\n",
    "    return found\n"
   ]
  },
  {
   "cell_type": "code",
   "execution_count": null,
   "metadata": {},
   "outputs": [],
   "source": [
    "# | export\n",
    "def check_single_candle_span(df, col_list=[\"SMA_20_C\", \"SMA_200_C\"], days_lookback=2):\n",
    "    days_lookback = min(days_lookback + 1, df.shape[0])\n",
    "    for d in range(1, days_lookback):\n",
    "        conditions = []\n",
    "        for col in col_list:\n",
    "            conditions.append(df.LOW.iloc[-d] <= df[col].iloc[-d] <= df.HIGH.iloc[-d])\n",
    "        if all(conditions):\n",
    "            print(\n",
    "                f\"{df.SYMBOL.iloc[0]} -> Single candle span on {df.DATE.iloc[-d]} : {d} days ago with {df.iloc[-d].CDL_COLOR} candle\"\n",
    "            )\n",
    "            return d\n",
    "    return 0"
   ]
  },
  {
   "cell_type": "code",
   "execution_count": null,
   "metadata": {},
   "outputs": [
    {
     "name": "stdout",
     "output_type": "stream",
     "text": [
      "PCBL -> SMA20 crossover on 06 Feb 2023 : 5 days ago, with green candle\n"
     ]
    },
    {
     "data": {
      "text/plain": [
       "0"
      ]
     },
     "execution_count": null,
     "metadata": {},
     "output_type": "execute_result"
    }
   ],
   "source": [
    "symbol = \"PCBL\"\n",
    "df = get_symbol_data(symbol)\n",
    "check_20_200_breakout(df, days_lookback=15)\n",
    "check_single_candle_span(\n",
    "    df, col_list=[\"SMA_20_C\", \"SMA_44_C\", \"SMA_200_C\"], days_lookback=5\n",
    ")"
   ]
  },
  {
   "cell_type": "code",
   "execution_count": null,
   "metadata": {},
   "outputs": [
    {
     "name": "stdout",
     "output_type": "stream",
     "text": [
      "ASTRAL -> Single candle span on 10 Feb 2023 : 1 days ago with red candle\n",
      "ENDURANCE -> Single candle span on 10 Feb 2023 : 1 days ago with red candle\n",
      "KAJARIACER -> Single candle span on 10 Feb 2023 : 1 days ago with green candle\n",
      "LATENTVIEW -> Single candle span on 09 Feb 2023 : 2 days ago with green candle\n",
      "PRINCEPIPE -> Single candle span on 09 Feb 2023 : 2 days ago with red candle\n",
      "SCHAEFFLER -> Single candle span on 09 Feb 2023 : 2 days ago with green candle\n",
      "TRIVENI -> Single candle span on 10 Feb 2023 : 1 days ago with green candle\n",
      "MANYAVAR -> Single candle span on 10 Feb 2023 : 1 days ago with green candle\n"
     ]
    }
   ],
   "source": [
    "# Find stocks with SMA20 and SMA44 single candle span\n",
    "for symbol in df500:\n",
    "    df = get_symbol_data(symbol)\n",
    "    if df is not None:\n",
    "        check_single_candle_span(\n",
    "            df, col_list=[\"SMA_20_C\", \"SMA_44_C\", \"SMA_200_C\"], days_lookback=2\n",
    "        )"
   ]
  },
  {
   "cell_type": "code",
   "execution_count": null,
   "metadata": {},
   "outputs": [
    {
     "name": "stdout",
     "output_type": "stream",
     "text": [
      "APOLLOHOSP -> SMA20 crossover on 06 Feb 2023 : 5 days ago, with green candle\n",
      "----------------------------------------------------------------------------------------------------\n",
      "ASIANPAINT -> SMA20 crossover on 09 Feb 2023 : 2 days ago, with green candle\n",
      "----------------------------------------------------------------------------------------------------\n",
      "BAJAJFINSV -> SMA20 crossover on 07 Feb 2023 : 4 days ago, with green candle\n",
      "----------------------------------------------------------------------------------------------------\n",
      "BERGEPAINT -> SMA20 crossover on 06 Feb 2023 : 5 days ago, with green candle\n",
      "----------------------------------------------------------------------------------------------------\n",
      "DEVYANI -> SMA20 crossover on 08 Feb 2023 : 3 days ago, with green candle\n",
      "----------------------------------------------------------------------------------------------------\n",
      "DHANI -> SMA20 crossover on 09 Feb 2023 : 2 days ago, with green candle\n",
      "----------------------------------------------------------------------------------------------------\n",
      "ELGIEQUIP -> Double crossover on 06 Feb 2023 : 5 days ago, with green candle\n",
      "----------------------------------------------------------------------------------------------------\n",
      "FDC -> SMA20 crossover on 08 Feb 2023 : 3 days ago, with green candle\n",
      "----------------------------------------------------------------------------------------------------\n",
      "GODREJAGRO -> SMA20 crossover on 09 Feb 2023 : 2 days ago, with red candle\n",
      "----------------------------------------------------------------------------------------------------\n",
      "GRASIM -> SMA20 crossover on 08 Feb 2023 : 3 days ago, with green candle\n",
      "----------------------------------------------------------------------------------------------------\n",
      "FLUOROCHEM -> SMA20 crossover on 06 Feb 2023 : 5 days ago, with green candle\n",
      "----------------------------------------------------------------------------------------------------\n",
      "IRCTC -> SMA20 crossover on 07 Feb 2023 : 4 days ago, with green candle\n",
      "----------------------------------------------------------------------------------------------------\n",
      "NAUKRI -> SMA20 crossover on 08 Feb 2023 : 3 days ago, with green candle\n",
      "----------------------------------------------------------------------------------------------------\n",
      "JKCEMENT -> SMA20 crossover on 09 Feb 2023 : 2 days ago, with green candle\n",
      "----------------------------------------------------------------------------------------------------\n",
      "KOTAKBANK -> SMA20 crossover on 09 Feb 2023 : 2 days ago, with green candle\n",
      "----------------------------------------------------------------------------------------------------\n",
      "MHRIL -> SMA20 crossover on 06 Feb 2023 : 5 days ago, with green candle\n",
      "----------------------------------------------------------------------------------------------------\n",
      "OBEROIRLTY -> SMA20 crossover on 08 Feb 2023 : 3 days ago, with green candle\n",
      "----------------------------------------------------------------------------------------------------\n",
      "PCBL -> SMA20 crossover on 06 Feb 2023 : 5 days ago, with green candle\n",
      "----------------------------------------------------------------------------------------------------\n",
      "PIIND -> Double crossover on 08 Feb 2023 : 3 days ago, with green candle\n",
      "----------------------------------------------------------------------------------------------------\n",
      "QUESS -> SMA20 crossover on 07 Feb 2023 : 4 days ago, with green candle\n",
      "----------------------------------------------------------------------------------------------------\n",
      "SBICARD -> SMA20 crossover on 08 Feb 2023 : 3 days ago, with green candle\n",
      "----------------------------------------------------------------------------------------------------\n",
      "IDEA -> SMA20 crossover on 06 Feb 2023 : 5 days ago, with green candle\n",
      "----------------------------------------------------------------------------------------------------\n",
      "ZEEL -> SMA20 crossover on 09 Feb 2023 : 2 days ago, with green candle\n",
      "----------------------------------------------------------------------------------------------------\n",
      "ZOMATO -> SMA20 crossover on 08 Feb 2023 : 3 days ago, with green candle\n",
      "----------------------------------------------------------------------------------------------------\n"
     ]
    }
   ],
   "source": [
    "# Find stocks with 20ma crossover preceded by time under a falling SMA20\n",
    "for symbol in df500:\n",
    "    df = get_symbol_data(symbol)\n",
    "    if df is not None:\n",
    "        a = check_20_200_breakout(df)\n",
    "        if a:\n",
    "            b = check_single_candle_span(\n",
    "                df, col_list=[\"SMA_20_C\", \"SMA_44_C\", \"SMA_200_C\"], days_lookback=5\n",
    "            )\n",
    "            print(\"-\" * 100)"
   ]
  },
  {
   "attachments": {},
   "cell_type": "markdown",
   "metadata": {},
   "source": [
    "ALLTIME HIGH STRATEGY"
   ]
  },
  {
   "cell_type": "code",
   "execution_count": null,
   "metadata": {},
   "outputs": [],
   "source": [
    "# | export\n",
    "def check_historical_minmax(df, min_steps_back=30, mode=None):\n",
    "    if mode is None or mode == \"all\":\n",
    "        mode = [\"min\", \"max\"]\n",
    "\n",
    "    if \"DATE\" not in df.columns:\n",
    "        df[\"DATE\"] = df.index\n",
    "\n",
    "    max_steps = len(df)\n",
    "    if max_steps > min_steps_back:\n",
    "        if \"max\" in mode or mode == \"max\":\n",
    "            # Search for historical high\n",
    "            last_is_max = True\n",
    "            steps_back = 1\n",
    "            while last_is_max:\n",
    "                steps_back += 1\n",
    "                if steps_back > max_steps:\n",
    "                    print(\n",
    "                        f\"{df.SYMBOL.iloc[-1]}: ALL TIME HIGH on {df.DATE.iloc[-1].date()} closed at {df.CLOSE.iloc[-1]}\"\n",
    "                    )\n",
    "                    return\n",
    "                last_is_max = df.CLOSE.iloc[-1] >= df.HIGH.iloc[-steps_back]\n",
    "\n",
    "            if steps_back >= min_steps_back:\n",
    "                print(\n",
    "                    f\"{df.SYMBOL.iloc[-1]} CLOSE -> {df.CLOSE.iloc[-1]} : New high of {steps_back} sessions, since HIGH of {df.HIGH.iloc[-steps_back]} on {df.DATE.iloc[-steps_back].date()}\"\n",
    "                )\n",
    "\n",
    "        if \"min\" in mode or mode == \"min\":\n",
    "            # Search for historical low\n",
    "            last_is_min = True\n",
    "            steps_back = 1\n",
    "            while last_is_min:\n",
    "                steps_back += 1\n",
    "                if steps_back > max_steps:\n",
    "                    print(\n",
    "                        f\"{df.SYMBOL.iloc[-1]}: ALL TIME LOW on {df.DATE.iloc[-1].date()} closed at {df.CLOSE.iloc[-1]}\"\n",
    "                    )\n",
    "                    return\n",
    "                last_is_min = df.CLOSE.iloc[-1] <= df.LOW.iloc[-steps_back]\n",
    "\n",
    "            if steps_back >= min_steps_back:\n",
    "                print(\n",
    "                    f\"{df.SYMBOL.iloc[-1]} CLOSE -> {df.CLOSE.iloc[-1]} : New low of {steps_back} sessions, since LOW of {df.LOW.iloc[-steps_back]} on {df.DATE.iloc[-steps_back].date()}\"\n",
    "                )"
   ]
  },
  {
   "cell_type": "code",
   "execution_count": null,
   "metadata": {},
   "outputs": [
    {
     "name": "stdout",
     "output_type": "stream",
     "text": [
      "File exists: c:\\MyData\\TechWork\\stocksurfer\\stocksurfer\\..\\Data\\Bhavcopy\\Processed\\BAJAJFINSV.csv\n"
     ]
    }
   ],
   "source": [
    "symbol = \"BAJAJFINSV\"\n",
    "file_path = base_path / processed_data_dir / f\"{symbol}.csv\"\n",
    "if not file_path.exists():\n",
    "    print(f\"File does not exist: {file_path}\")\n",
    "else:\n",
    "    print(f\"File exists: {file_path}\")\n",
    "    df = pd.read_csv(file_path, parse_dates=[\"DATE\"])\n",
    "    # Convert daily data to monthly data\n",
    "    df_monthly = df.resample(\"M\", on=\"DATE\").agg(\n",
    "        {\n",
    "            \"OPEN\": \"first\",\n",
    "            \"HIGH\": \"max\",\n",
    "            \"LOW\": \"min\",\n",
    "            \"CLOSE\": \"last\",\n",
    "            \"SYMBOL\": \"first\",\n",
    "        }\n",
    "    )\n",
    "\n",
    "    # check_historical_minmax(df, min_steps_back=4, mode=None)\n",
    "    check_historical_minmax(df_monthly, min_steps_back=4, mode=None)"
   ]
  },
  {
   "cell_type": "code",
   "execution_count": null,
   "metadata": {},
   "outputs": [
    {
     "data": {
      "text/html": [
       "<div>\n",
       "<style scoped>\n",
       "    .dataframe tbody tr th:only-of-type {\n",
       "        vertical-align: middle;\n",
       "    }\n",
       "\n",
       "    .dataframe tbody tr th {\n",
       "        vertical-align: top;\n",
       "    }\n",
       "\n",
       "    .dataframe thead th {\n",
       "        text-align: right;\n",
       "    }\n",
       "</style>\n",
       "<table border=\"1\" class=\"dataframe\">\n",
       "  <thead>\n",
       "    <tr style=\"text-align: right;\">\n",
       "      <th></th>\n",
       "      <th>DATE</th>\n",
       "      <th>CLOSE</th>\n",
       "      <th>HIGH</th>\n",
       "      <th>LOW</th>\n",
       "      <th>SYMBOL</th>\n",
       "    </tr>\n",
       "  </thead>\n",
       "  <tbody>\n",
       "    <tr>\n",
       "      <th>0</th>\n",
       "      <td>2016-01-01</td>\n",
       "      <td>1983.80</td>\n",
       "      <td>2012.00</td>\n",
       "      <td>1964.95</td>\n",
       "      <td>BAJAJFINSV</td>\n",
       "    </tr>\n",
       "    <tr>\n",
       "      <th>1</th>\n",
       "      <td>2016-01-04</td>\n",
       "      <td>1959.50</td>\n",
       "      <td>1989.95</td>\n",
       "      <td>1953.00</td>\n",
       "      <td>BAJAJFINSV</td>\n",
       "    </tr>\n",
       "    <tr>\n",
       "      <th>2</th>\n",
       "      <td>2016-01-05</td>\n",
       "      <td>1946.00</td>\n",
       "      <td>1979.95</td>\n",
       "      <td>1935.10</td>\n",
       "      <td>BAJAJFINSV</td>\n",
       "    </tr>\n",
       "    <tr>\n",
       "      <th>3</th>\n",
       "      <td>2016-01-06</td>\n",
       "      <td>1938.55</td>\n",
       "      <td>1955.00</td>\n",
       "      <td>1931.00</td>\n",
       "      <td>BAJAJFINSV</td>\n",
       "    </tr>\n",
       "    <tr>\n",
       "      <th>4</th>\n",
       "      <td>2016-01-07</td>\n",
       "      <td>1927.05</td>\n",
       "      <td>1946.00</td>\n",
       "      <td>1905.00</td>\n",
       "      <td>BAJAJFINSV</td>\n",
       "    </tr>\n",
       "    <tr>\n",
       "      <th>...</th>\n",
       "      <td>...</td>\n",
       "      <td>...</td>\n",
       "      <td>...</td>\n",
       "      <td>...</td>\n",
       "      <td>...</td>\n",
       "    </tr>\n",
       "    <tr>\n",
       "      <th>1754</th>\n",
       "      <td>2023-02-06</td>\n",
       "      <td>1343.05</td>\n",
       "      <td>1349.00</td>\n",
       "      <td>1322.10</td>\n",
       "      <td>BAJAJFINSV</td>\n",
       "    </tr>\n",
       "    <tr>\n",
       "      <th>1755</th>\n",
       "      <td>2023-02-07</td>\n",
       "      <td>1350.40</td>\n",
       "      <td>1362.35</td>\n",
       "      <td>1337.10</td>\n",
       "      <td>BAJAJFINSV</td>\n",
       "    </tr>\n",
       "    <tr>\n",
       "      <th>1756</th>\n",
       "      <td>2023-02-08</td>\n",
       "      <td>1368.90</td>\n",
       "      <td>1377.00</td>\n",
       "      <td>1345.20</td>\n",
       "      <td>BAJAJFINSV</td>\n",
       "    </tr>\n",
       "    <tr>\n",
       "      <th>1757</th>\n",
       "      <td>2023-02-09</td>\n",
       "      <td>1400.25</td>\n",
       "      <td>1409.90</td>\n",
       "      <td>1356.65</td>\n",
       "      <td>BAJAJFINSV</td>\n",
       "    </tr>\n",
       "    <tr>\n",
       "      <th>1758</th>\n",
       "      <td>2023-02-10</td>\n",
       "      <td>1401.75</td>\n",
       "      <td>1418.65</td>\n",
       "      <td>1394.00</td>\n",
       "      <td>BAJAJFINSV</td>\n",
       "    </tr>\n",
       "  </tbody>\n",
       "</table>\n",
       "<p>1759 rows × 5 columns</p>\n",
       "</div>"
      ],
      "text/plain": [
       "           DATE    CLOSE     HIGH      LOW      SYMBOL\n",
       "0    2016-01-01  1983.80  2012.00  1964.95  BAJAJFINSV\n",
       "1    2016-01-04  1959.50  1989.95  1953.00  BAJAJFINSV\n",
       "2    2016-01-05  1946.00  1979.95  1935.10  BAJAJFINSV\n",
       "3    2016-01-06  1938.55  1955.00  1931.00  BAJAJFINSV\n",
       "4    2016-01-07  1927.05  1946.00  1905.00  BAJAJFINSV\n",
       "...         ...      ...      ...      ...         ...\n",
       "1754 2023-02-06  1343.05  1349.00  1322.10  BAJAJFINSV\n",
       "1755 2023-02-07  1350.40  1362.35  1337.10  BAJAJFINSV\n",
       "1756 2023-02-08  1368.90  1377.00  1345.20  BAJAJFINSV\n",
       "1757 2023-02-09  1400.25  1409.90  1356.65  BAJAJFINSV\n",
       "1758 2023-02-10  1401.75  1418.65  1394.00  BAJAJFINSV\n",
       "\n",
       "[1759 rows x 5 columns]"
      ]
     },
     "execution_count": null,
     "metadata": {},
     "output_type": "execute_result"
    }
   ],
   "source": [
    "df[[\"DATE\", \"CLOSE\", \"HIGH\", \"LOW\", \"SYMBOL\"]]\n"
   ]
  },
  {
   "cell_type": "code",
   "execution_count": null,
   "metadata": {},
   "outputs": [
    {
     "data": {
      "text/plain": [
       "<AxesSubplot:>"
      ]
     },
     "execution_count": null,
     "metadata": {},
     "output_type": "execute_result"
    },
    {
     "data": {
      "image/png": "[encoded data removed]",
      "text/plain": [
       "<Figure size 1600x800 with 1 Axes>"
      ]
     },
     "metadata": {},
     "output_type": "display_data"
    }
   ],
   "source": [
    "df.CLOSE.plot(kind=\"bar\", figsize=(16, 8))"
   ]
  },
  {
   "cell_type": "code",
   "execution_count": null,
   "metadata": {},
   "outputs": [
    {
     "data": {
      "text/plain": [
       "Unnamed: 0                       1758\n",
       "index                          257361\n",
       "SYMBOL                     BAJAJFINSV\n",
       "SERIES                             EQ\n",
       "OPEN                           1406.0\n",
       "HIGH                          1418.65\n",
       "LOW                            1394.0\n",
       "CLOSE                         1401.75\n",
       "TOTTRDQTY                     2069492\n",
       "TOTTRDVAL                2914164346.1\n",
       "TOTALTRADES                     67246\n",
       "DATE              2023-02-10 00:00:00\n",
       "DAY_OF_WEEK                    Friday\n",
       "WEEK_NUM                            6\n",
       "SMA_20_C                     1346.295\n",
       "SMA_20_H                    1365.3025\n",
       "SMA_44_C                  1446.242045\n",
       "SMA_200_C                  7324.12425\n",
       "CDL_COLOR                         red\n",
       "CDL_SIZE                         4.25\n",
       "TOPWICK_SIZE                    12.65\n",
       "BOTWICK_SIZE                     7.75\n",
       "DIFF_20_44                  99.947045\n",
       "DIFF_20_200                5977.82925\n",
       "DIFF_20_CLOSE                  55.455\n",
       "DIFF_44_CLOSE               44.492045\n",
       "DIFF_200_CLOSE             5922.37425\n",
       "Name: 1758, dtype: object"
      ]
     },
     "execution_count": null,
     "metadata": {},
     "output_type": "execute_result"
    }
   ],
   "source": [
    "df.iloc[-1]\n"
   ]
  },
  {
   "cell_type": "code",
   "execution_count": null,
   "metadata": {},
   "outputs": [],
   "source": [
    "for symbol in df500:\n",
    "    file_path = base_path / processed_data_dir / f\"{symbol}.csv\"\n",
    "    if file_path.exists():\n",
    "        df = pd.read_csv(file_path, parse_dates=[\"DATE\"])\n",
    "        # Convert daily data to monthly data\n",
    "        df_monthly = df.resample(\"M\", on=\"DATE\").agg(\n",
    "            {\n",
    "                \"OPEN\": \"first\",\n",
    "                \"HIGH\": \"max\",\n",
    "                \"LOW\": \"min\",\n",
    "                \"CLOSE\": \"last\",\n",
    "                \"SYMBOL\": \"first\",\n",
    "            }\n",
    "        )\n",
    "\n",
    "        # check_historical_minmax(df, min_steps_back=30, mode=\"max\")\n",
    "        check_historical_minmax(df_monthly, min_steps_back=36, mode=\"all\")"
   ]
  },
  {
   "cell_type": "code",
   "execution_count": null,
   "metadata": {},
   "outputs": [],
   "source": [
    "# Get list of all csv files in raw_data_dir\n",
    "# csv_files = [f for f in raw_data_dir.iterdir() if f.suffix == '.csv']\n",
    "\n",
    "# for file in csv_files:\n",
    "#     file_path = base_path / processed_data_dir / f\"{symbol}.csv\"\n",
    "#     if os.path.exists(file_path):\n",
    "#         df = pd.read_csv(file_path, parse_dates=[\"DATE\"])\n",
    "\n",
    "#         # Convert daily data to monthly data\n",
    "#         df_monthly = df.resample('M', on='DATE').agg({'OPEN': 'first', 'HIGH': 'max', 'LOW': 'min', 'CLOSE': 'last','SYMBOL': 'first'})\n",
    "\n",
    "#         # check_historical_minmax(df, min_steps_back=300, mode=\"max\")\n",
    "#         check_historical_minmax(df_monthly, min_steps_back=60, mode=\"max\")"
   ]
  },
  {
   "attachments": {},
   "cell_type": "markdown",
   "metadata": {},
   "source": [
    "Movement in a band"
   ]
  },
  {
   "cell_type": "code",
   "execution_count": null,
   "metadata": {},
   "outputs": [],
   "source": [
    "def check_movement_within_band(df, band_perc=5, steps_lookback=20):\n",
    "    steps_lookback = min(steps_lookback + 1, df.shape[0])\n",
    "    max_steps = len(df)\n",
    "\n",
    "    band_max = df.CLOSE.iloc[-1] * (1 + band_perc / 100)\n",
    "    band_min = df.CLOSE.iloc[-1] * (1 - band_perc / 100)\n",
    "\n",
    "    in_band = True\n",
    "    steps_back = 1\n",
    "    while in_band:\n",
    "        steps_back += 1\n",
    "        if steps_back > max_steps:\n",
    "            print(\n",
    "                f\"{df.SYMBOL.iloc[-1]}: Within band of {band_perc}% for {steps_back-1} sessions for band: {band_min:0.2f} to {band_max:0.2f}\"\n",
    "            )\n",
    "            return\n",
    "        in_band = (df.CLOSE.iloc[-steps_back] <= band_max) and (\n",
    "            df.CLOSE.iloc[-steps_back] >= band_min\n",
    "        )\n",
    "\n",
    "    if steps_back >= steps_lookback:\n",
    "        print(\n",
    "            f\"{df.SYMBOL.iloc[-1]} CLOSE -> {df.CLOSE.iloc[-1]} : Within band of {band_perc}% for {steps_back-1} sessions for band: {band_min:0.2f} to {band_max:0.2f}\"\n",
    "        )\n",
    "        return"
   ]
  },
  {
   "cell_type": "code",
   "execution_count": null,
   "metadata": {},
   "outputs": [],
   "source": [
    "# symbol = \"VAIBHAVGBL\"\n",
    "# file_path = base_path / processed_data_dir / f\"{symbol}.csv\"\n",
    "# if not os.path.exists(file_path):\n",
    "#     print(f\"File does not exist: {file_path}\")\n",
    "# else:\n",
    "#     print(f\"File exists: {file_path}\")\n",
    "#     df = pd.read_csv(file_path, parse_dates=[\"DATE\"])\n",
    "#     df = df.query(\"DATE < '2022-08-27'\")\n",
    "#     check_movement_within_band(df, band_perc=5, steps_lookback=20)\n",
    "\n",
    "# Convert daily data to monthly data\n",
    "# df_monthly = df.resample('M', on='DATE').agg({'OPEN': 'first', 'HIGH': 'max', 'LOW': 'min', 'CLOSE': 'last','SYMBOL': 'first'})"
   ]
  },
  {
   "cell_type": "code",
   "execution_count": null,
   "metadata": {},
   "outputs": [],
   "source": [
    "# for symbol in df500:\n",
    "#     file_path = base_path / processed_data_dir / f\"{symbol}.csv\"\n",
    "#     if os.path.exists(file_path):\n",
    "#         df = pd.read_csv(file_path, parse_dates=[\"DATE\"])\n",
    "\n",
    "#         check_movement_within_band(df, band_perc=3, steps_lookback=20)"
   ]
  },
  {
   "cell_type": "code",
   "execution_count": null,
   "metadata": {},
   "outputs": [],
   "source": [
    "# def check_3_green_on_SMA(df, sma_period=20):\n",
    "\n",
    "#     if df.shape[0] < sma_period:\n",
    "#         return\n",
    "\n",
    "#     if all([\n",
    "#         df.OPEN.iloc[-3] < df.SMA_20_C.iloc[-3] < df.CLOSE.iloc[-3],\n",
    "#         df.OPEN.iloc[-2] < df.CLOSE.iloc[-2],\n",
    "#         df.OPEN.iloc[-1] < df.CLOSE.iloc[-1],\n",
    "#         df.CLOSE.iloc[-1] > df.CLOSE.iloc[-2] > df.CLOSE.iloc[-3],\n",
    "#     ]): # 3 green candles on SMA\n",
    "\n",
    "#         print(f\"{df.SYMBOL.iloc[-1]}: 3 green candles on SMA 20 on {df.DATE.iloc[-1]}\")"
   ]
  },
  {
   "cell_type": "code",
   "execution_count": null,
   "metadata": {},
   "outputs": [],
   "source": [
    "# Get list of all csv files in raw_data_dir\n",
    "# csv_files = [f for f in os.listdir(processed_data_dir) if f.endswith('.csv')]\n",
    "\n",
    "# for file in csv_files:\n",
    "#     file_path = base_path / processed_data_dir / f\"{symbol}.csv\"\n",
    "#     if os.path.exists(file_path):\n",
    "#         df = pd.read_csv(file_path, parse_dates=[\"DATE\"])\n",
    "\n",
    "#         # Convert daily data to monthly data\n",
    "#         # df_monthly = df.resample('M', on='DATE').agg({'OPEN': 'first', 'HIGH': 'max', 'LOW': 'min', 'CLOSE': 'last','SYMBOL': 'first'})\n",
    "\n",
    "#         # Convert daily data to weekly data\n",
    "#         df_weekly = df.resample('W', on='DATE').agg({'OPEN': 'first', 'HIGH': 'max', 'LOW': 'min', 'CLOSE': 'last','SYMBOL': 'first'})\n",
    "#         df_weekly['SMA_20_C'] = df_weekly.CLOSE.rolling(20).mean()\n",
    "#         if \"DATE\" not in df_weekly.columns:\n",
    "#             df_weekly[\"DATE\"] = df_weekly.index\n",
    "\n",
    "#         check_3_green_on_SMA(df_weekly, sma_period=20)"
   ]
  },
  {
   "cell_type": "code",
   "execution_count": null,
   "metadata": {},
   "outputs": [],
   "source": [
    "# Download csv from URL\n",
    "# url = r\"https://www.nseindia.com/api/equity-stockIndices?csv=true&index=SECURITIES%20IN%20F%26O\"\n",
    "# df = pd.read_csv(url)\n",
    "# df\n"
   ]
  },
  {
   "cell_type": "code",
   "execution_count": null,
   "metadata": {},
   "outputs": [],
   "source": [
    "# import requests\n",
    "# # Download csv from URL using requests\n",
    "# url = r\"https://www.nseindia.com/api/equity-stockIndices?csv=true&index=SECURITIES%20IN%20F%26O\"\n",
    "# requests.get(url).content\n"
   ]
  },
  {
   "cell_type": "code",
   "execution_count": null,
   "metadata": {},
   "outputs": [],
   "source": [
    "# https://www.nseindia.com/market-data/live-equity-market\n",
    "\n",
    "# https://www.nseindia.com/api/equity-stockIndices?csv=true&index=NIFTY%20SMALLCAP%2050\n"
   ]
  },
  {
   "cell_type": "code",
   "execution_count": null,
   "metadata": {},
   "outputs": [],
   "source": [
    "# init_cap = 200000\n",
    "# win_rate = 0.6\n",
    "# one_trade_perc = 0.02\n",
    "\n",
    "# for i in range(200):\n",
    "#     if random.random() < win_rate:\n",
    "#         init_cap = init_cap * (1 + one_trade_perc)\n",
    "#     else:\n",
    "#         init_cap = init_cap * (1 - one_trade_perc)\n",
    "\n",
    "# print(f'{init_cap:,}')"
   ]
  },
  {
   "cell_type": "code",
   "execution_count": null,
   "metadata": {},
   "outputs": [],
   "source": [
    "# import random\n",
    "# random.random()"
   ]
  },
  {
   "cell_type": "code",
   "execution_count": null,
   "metadata": {},
   "outputs": [],
   "source": [
    "# | hide\n",
    "nbdev.nbdev_export()"
   ]
  }
 ],
 "metadata": {
  "kernelspec": {
   "display_name": "p310_trading",
   "language": "python",
   "name": "python3"
  }
 },
 "nbformat": 4,
 "nbformat_minor": 4
}
