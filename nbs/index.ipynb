{
 "cells": [
  {
   "cell_type": "code",
   "execution_count": null,
   "metadata": {},
   "outputs": [],
   "source": [
    "#| hide\n",
    "from stocksurfer.scrapers import *\n",
    "from stocksurfer.technicals import *\n",
    "from stocksurfer.filters import *"
   ]
  },
  {
   "cell_type": "markdown",
   "metadata": {},
   "source": [
    "# stocksurfer\n",
    "\n",
    "> A set of scripts for performing various stock market analyses."
   ]
  },
  {
   "attachments": {},
   "cell_type": "markdown",
   "metadata": {},
   "source": [
    "> Install: Currently not pip installable. Under heavy development.\n",
    "Until then, clone the repo and run `pip install -e .` from the root directory."
   ]
  },
  {
   "attachments": {},
   "cell_type": "markdown",
   "metadata": {},
   "source": []
  },
  {
   "cell_type": "markdown",
   "metadata": {},
   "source": [
    "```sh\n",
    "pip install stocksurfer\n",
    "```"
   ]
  },
  {
   "cell_type": "markdown",
   "metadata": {},
   "source": [
    "## How to use"
   ]
  },
  {
   "attachments": {},
   "cell_type": "markdown",
   "metadata": {},
   "source": [
    "Get the latest NSE data"
   ]
  },
  {
   "cell_type": "code",
   "execution_count": null,
   "metadata": {},
   "outputs": [
    {
     "name": "stdout",
     "output_type": "stream",
     "text": [
      "--------------------------------------------------\n",
      "Fetching data for 15 days\n",
      "Skipping 2023-04-15 as it is a weekend\n",
      "Skipping 2023-04-16 as it is a weekend\n",
      "File cm17APR2023bhav.csv.zip already exists.. unzipping\n",
      "File cm18APR2023bhav.csv.zip already exists.. unzipping\n",
      "File cm19APR2023bhav.csv.zip already exists.. unzipping\n",
      "File cm20APR2023bhav.csv.zip already exists.. unzipping\n",
      "File cm21APR2023bhav.csv.zip already exists.. unzipping\n",
      "Skipping 2023-04-22 as it is a holiday: Id-Ul-Fitr (Ramzan ID)\n",
      "Skipping 2023-04-23 as it is a weekend\n",
      "File cm24APR2023bhav.csv.zip already exists.. unzipping\n",
      "File cm25APR2023bhav.csv.zip already exists.. unzipping\n",
      "File cm26APR2023bhav.csv.zip already exists.. unzipping\n",
      "File cm27APR2023bhav.csv.zip already exists.. unzipping\n",
      "File cm28APR2023bhav.csv.zip already exists.. unzipping\n",
      "Skipping 2023-04-29 as it is a weekend\n",
      "Skipping 2023-04-30 as it is a weekend\n",
      "Bhavcopy data download complete\n",
      "--------------------------------------------------\n"
     ]
    }
   ],
   "source": [
    "from datetime import datetime\n",
    "\n",
    "# Define date range\n",
    "start_date = datetime(2023,4, 15)\n",
    "end_date = datetime.now()\n",
    "\n",
    "# Fetch data from NSE\n",
    "fetch_bhavcopy_data_for_range(start_date, end_date)"
   ]
  },
  {
   "attachments": {},
   "cell_type": "markdown",
   "metadata": {},
   "source": [
    "Generate stock data with technical indicators added"
   ]
  },
  {
   "cell_type": "code",
   "execution_count": null,
   "metadata": {},
   "outputs": [
    {
     "name": "stdout",
     "output_type": "stream",
     "text": [
      "2023-04-27 2023-04-30\n",
      "--------------------------------------------------\n",
      "Fetching data for 3 days\n",
      "File cm27APR2023bhav.csv.zip already exists.. unzipping\n",
      "File cm28APR2023bhav.csv.zip already exists.. unzipping\n",
      "Skipping 2023-04-29 as it is a weekend\n",
      "Skipping 2023-04-30 as it is a weekend\n",
      "Bhavcopy data download complete\n",
      "--------------------------------------------------\n",
      "No new data to update\n"
     ]
    }
   ],
   "source": [
    "update_all_symbols_data()"
   ]
  },
  {
   "attachments": {},
   "cell_type": "markdown",
   "metadata": {},
   "source": [
    "Get list of stocks in ASM and GSM"
   ]
  },
  {
   "cell_type": "code",
   "execution_count": null,
   "metadata": {},
   "outputs": [],
   "source": [
    "# get_blocklist()"
   ]
  }
 ],
 "metadata": {
  "kernelspec": {
   "display_name": "python3",
   "language": "python",
   "name": "python3"
  }
 },
 "nbformat": 4,
 "nbformat_minor": 4
}
