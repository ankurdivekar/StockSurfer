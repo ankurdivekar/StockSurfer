{
 "cells": [
  {
   "cell_type": "code",
   "execution_count": null,
   "metadata": {},
   "outputs": [],
   "source": [
    "#| hide\n",
    "from stocksurfer.scrapers import *\n",
    "from stocksurfer.technicals import *\n",
    "# from stocksurfer.strategies import *"
   ]
  },
  {
   "cell_type": "markdown",
   "metadata": {},
   "source": [
    "# stocksurfer\n",
    "\n",
    "> A set of scripts for performing various stock market analyses."
   ]
  },
  {
   "attachments": {},
   "cell_type": "markdown",
   "metadata": {},
   "source": [
    "> Install: Currently not pip installable. Under heavy development.\n",
    "Until then, clone the repo and run `pip install -e .` from the root directory."
   ]
  },
  {
   "attachments": {},
   "cell_type": "markdown",
   "metadata": {},
   "source": []
  },
  {
   "cell_type": "markdown",
   "metadata": {},
   "source": [
    "```sh\n",
    "pip install stocksurfer\n",
    "```"
   ]
  },
  {
   "cell_type": "markdown",
   "metadata": {},
   "source": [
    "## How to use"
   ]
  },
  {
   "cell_type": "code",
   "execution_count": null,
   "metadata": {},
   "outputs": [],
   "source": [
    "from datetime import datetime"
   ]
  },
  {
   "attachments": {},
   "cell_type": "markdown",
   "metadata": {},
   "source": [
    "Get the latest NSE data"
   ]
  },
  {
   "cell_type": "code",
   "execution_count": null,
   "metadata": {},
   "outputs": [
    {
     "name": "stdout",
     "output_type": "stream",
     "text": [
      "Skipping 2023-04-01 as it is a weekend\n",
      "Skipping 2023-04-02 as it is a weekend\n",
      "File cm03APR2023bhav.csv.zip already exists.. unzipping\n",
      "Skipping 2023-04-04 as it is a holiday: Mahavir Jayanti\n",
      "File cm05APR2023bhav.csv.zip already exists.. unzipping\n",
      "File cm06APR2023bhav.csv.zip already exists.. unzipping\n",
      "Skipping 2023-04-07 as it is a holiday: Good Friday\n",
      "Bhavcopy data download complete\n"
     ]
    }
   ],
   "source": [
    "# Define date range\n",
    "start_date = datetime(2023,4, 1)\n",
    "end_date = datetime.now()\n",
    "\n",
    "# Fetch data from NSE\n",
    "fetch_bhavcopy_data_for_range(start_date, end_date)"
   ]
  },
  {
   "attachments": {},
   "cell_type": "markdown",
   "metadata": {},
   "source": [
    "Get list of stocks in ASM and GSM"
   ]
  },
  {
   "cell_type": "code",
   "execution_count": null,
   "metadata": {},
   "outputs": [],
   "source": [
    "# get_blocklist()"
   ]
  },
  {
   "attachments": {},
   "cell_type": "markdown",
   "metadata": {},
   "source": [
    "Generate stock data with technical indicators added"
   ]
  },
  {
   "cell_type": "code",
   "execution_count": null,
   "metadata": {},
   "outputs": [],
   "source": [
    "# process_all_symbols()"
   ]
  }
 ],
 "metadata": {
  "kernelspec": {
   "display_name": "python3",
   "language": "python",
   "name": "python3"
  }
 },
 "nbformat": 4,
 "nbformat_minor": 4
}
