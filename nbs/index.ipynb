{
 "cells": [
  {
   "cell_type": "code",
   "execution_count": null,
   "metadata": {},
   "outputs": [],
   "source": [
    "#| hide\n",
    "from stocksurfer.scrapers import *\n",
    "# from stocksurfer.stockdata import *\n",
    "# from stocksurfer.technicals import *\n",
    "# from stocksurfer.strategies import *"
   ]
  },
  {
   "cell_type": "markdown",
   "metadata": {},
   "source": [
    "# stocksurfer\n",
    "\n",
    "> A set of scripts for performing various stock market analyses."
   ]
  },
  {
   "attachments": {},
   "cell_type": "markdown",
   "metadata": {},
   "source": [
    "> Install: Currently not pip installable. Under heavy development.\n",
    "Until then, clone the repo and run `pip install -e .` from the root directory."
   ]
  },
  {
   "attachments": {},
   "cell_type": "markdown",
   "metadata": {},
   "source": []
  },
  {
   "cell_type": "markdown",
   "metadata": {},
   "source": [
    "```sh\n",
    "pip install stocksurfer\n",
    "```"
   ]
  },
  {
   "cell_type": "markdown",
   "metadata": {},
   "source": [
    "## How to use"
   ]
  },
  {
   "cell_type": "code",
   "execution_count": null,
   "metadata": {},
   "outputs": [],
   "source": [
    "from datetime import datetime"
   ]
  },
  {
   "attachments": {},
   "cell_type": "markdown",
   "metadata": {},
   "source": [
    "Get the latest NSE data"
   ]
  },
  {
   "cell_type": "code",
   "execution_count": null,
   "metadata": {},
   "outputs": [
    {
     "name": "stdout",
     "output_type": "stream",
     "text": [
      "File cm20MAR2023bhav.csv.zip already exists.. unzipping\n",
      "File cm21MAR2023bhav.csv.zip already exists.. unzipping\n",
      "File cm22MAR2023bhav.csv.zip already exists.. unzipping\n",
      "File cm23MAR2023bhav.csv.zip already exists.. unzipping\n",
      "File cm24MAR2023bhav.csv.zip already exists.. unzipping\n",
      "Skipping 2023-03-25 as it is a weekend\n",
      "Skipping 2023-03-26 as it is a weekend\n",
      "File cm27MAR2023bhav.csv.zip already exists.. unzipping\n",
      "File cm28MAR2023bhav.csv.zip already exists.. unzipping\n",
      "File cm29MAR2023bhav.csv.zip already exists.. unzipping\n",
      "Skipping 2023-03-30 as it is a holiday: Ram Navami\n",
      "File cm31MAR2023bhav.csv.zip already exists.. unzipping\n",
      "Skipping 2023-04-01 as it is a weekend\n",
      "Bhavcopy data download complete\n"
     ]
    }
   ],
   "source": [
    "# Define date range\n",
    "start_date = datetime(2023, 3, 20)\n",
    "end_date = datetime.now()\n",
    "\n",
    "# Fetch data from NSE\n",
    "fetch_bhavcopy_data_for_range(start_date, end_date)"
   ]
  },
  {
   "attachments": {},
   "cell_type": "markdown",
   "metadata": {},
   "source": [
    "Get list of stocks in ASM and GSM"
   ]
  },
  {
   "cell_type": "code",
   "execution_count": null,
   "metadata": {},
   "outputs": [
    {
     "name": "stdout",
     "output_type": "stream",
     "text": [
      "Downloading:https://www.nseindia.com/api/reportGSM\n",
      "Downloading:https://www.nseindia.com/api/reportASM\n"
     ]
    },
    {
     "data": {
      "text/plain": [
       "['STAMPEDE',\n",
       " 'SABTN',\n",
       " 'ATGL',\n",
       " 'EUROTEXIND',\n",
       " 'EDUCOMP',\n",
       " 'UMESLTD',\n",
       " 'PREMIER',\n",
       " 'CONTI',\n",
       " 'AUTORIDFIN',\n",
       " 'TIJARIA',\n",
       " 'BINANIIND',\n",
       " 'ATNINTER',\n",
       " 'UNIINFO',\n",
       " 'SITINET',\n",
       " 'DGCONTENT',\n",
       " 'IZMO',\n",
       " 'RMCL',\n",
       " 'JWL',\n",
       " 'PONNIERODE',\n",
       " 'RAJVIR',\n",
       " 'MBAPL',\n",
       " 'GOLDTECH',\n",
       " 'SOLEX',\n",
       " 'IMAGICAA',\n",
       " 'GLFL',\n",
       " 'QUINTEGRA',\n",
       " 'THOMASCOTT',\n",
       " 'APOLLO',\n",
       " 'BLUECHIP',\n",
       " 'FCONSUMER',\n",
       " 'BHARATWIRE',\n",
       " 'NAGREEKCAP',\n",
       " 'GAYAHWS',\n",
       " 'MELSTAR',\n",
       " 'INFOMEDIA',\n",
       " 'UNIVAFOODS',\n",
       " 'COOLCAPS',\n",
       " 'VISUINTL',\n",
       " 'ASIL',\n",
       " 'JBFIND',\n",
       " 'MOLDTECH',\n",
       " 'SCAPDVR',\n",
       " 'KEEPLEARN',\n",
       " 'GEEKAYWIRE',\n",
       " 'SVPGLOB',\n",
       " 'PDPL',\n",
       " 'SPENTEX',\n",
       " 'SHYAMTEL',\n",
       " 'KRIDHANINF',\n",
       " 'TREEHOUSE',\n",
       " 'PCJEWELLER',\n",
       " 'AGNI',\n",
       " 'HEADSUP',\n",
       " 'PANSARI',\n",
       " 'GISOLUTION',\n",
       " 'BALLARPUR',\n",
       " 'IEL',\n",
       " 'CAREERP',\n",
       " 'DCMFINSERV',\n",
       " 'MASKINVEST',\n",
       " 'S&SPOWER',\n",
       " 'NPST',\n",
       " 'ADANITRANS',\n",
       " 'RAJMET',\n",
       " 'INDLMETER',\n",
       " 'RPPINFRA',\n",
       " 'ADANIPOWER',\n",
       " 'METALFORGE',\n",
       " 'NITIRAJ',\n",
       " 'DELPHIFX',\n",
       " 'KRITI',\n",
       " 'KRISHANA',\n",
       " 'TIPSFILMS',\n",
       " 'MANAKSIA',\n",
       " 'KOHINOOR',\n",
       " 'LGBFORGE',\n",
       " 'KRISHIVAL',\n",
       " 'SADBHIN',\n",
       " 'LATTEYS',\n",
       " 'SBCL',\n",
       " 'SKMEGGPROD',\n",
       " 'ZEELEARN',\n",
       " 'KEERTI',\n",
       " 'NURECA',\n",
       " 'DUCON',\n",
       " 'TAPIFRUIT',\n",
       " 'SUPREMEINF',\n",
       " 'AKG',\n",
       " 'ATLANTA',\n",
       " 'SPYL',\n",
       " 'MITTAL',\n",
       " 'ROML',\n",
       " 'ORTEL',\n",
       " 'KIRLOSENG',\n",
       " 'GOLDENTOBC',\n",
       " 'MANAV',\n",
       " 'MAKS',\n",
       " 'KKCL',\n",
       " 'ASIANENE',\n",
       " 'SETUINFRA',\n",
       " 'LAKPRE',\n",
       " 'MANUGRAPH',\n",
       " 'MAGNUM',\n",
       " 'ASMS',\n",
       " 'CINEVISTA',\n",
       " 'TNTELE',\n",
       " 'OMINFRAL',\n",
       " 'PARACABLES',\n",
       " 'ADANIGREEN',\n",
       " 'OSIAHYPER',\n",
       " 'URAVI',\n",
       " 'MGEL',\n",
       " 'BURNPUR',\n",
       " 'BTML',\n",
       " '4THDIM',\n",
       " 'WEL',\n",
       " 'LYPSAGEMS',\n",
       " 'RILINFRA',\n",
       " 'CADSYS',\n",
       " 'GANGOTRI',\n",
       " 'NEXTMEDIA',\n",
       " 'GAL',\n",
       " 'BKMINDST',\n",
       " 'MRO-TEK',\n",
       " 'DRCSYSTEMS',\n",
       " 'TARMAT',\n",
       " 'KSK',\n",
       " 'SPCENET',\n",
       " 'PRAXIS',\n",
       " 'MANGCHEFER',\n",
       " 'GRMOVER',\n",
       " 'PENINLAND',\n",
       " 'BSHSL',\n",
       " 'MAHESHWARI',\n",
       " 'CLOUD',\n",
       " 'HIRECT',\n",
       " 'AXISCADES',\n",
       " 'RADIOCITY',\n",
       " 'TCIFINANCE',\n",
       " 'RADAAN',\n",
       " 'SABEVENTS',\n",
       " 'EQUIPPP',\n",
       " 'BLUECOAST',\n",
       " 'GENCON',\n",
       " 'VICEROY',\n",
       " 'METKORE',\n",
       " 'DSSL',\n",
       " 'GFSTEELS',\n",
       " 'PERFECT',\n",
       " 'NECCLTD',\n",
       " 'WSI',\n",
       " 'GOLDSTAR',\n",
       " 'DUGLOBAL',\n",
       " 'RMDRIP',\n",
       " 'IL&FSTRANS',\n",
       " 'NDTV',\n",
       " 'NKIND',\n",
       " 'YAARI',\n",
       " 'TVVISION',\n",
       " 'USASEEDS',\n",
       " 'NINSYS',\n",
       " 'INDSWFTLTD',\n",
       " 'NATNLSTEEL']"
      ]
     },
     "execution_count": null,
     "metadata": {},
     "output_type": "execute_result"
    }
   ],
   "source": [
    "get_blocklist()"
   ]
  }
 ],
 "metadata": {
  "kernelspec": {
   "display_name": "python3",
   "language": "python",
   "name": "python3"
  }
 },
 "nbformat": 4,
 "nbformat_minor": 4
}
