{
 "cells": [
  {
   "cell_type": "code",
   "execution_count": 1,
   "metadata": {},
   "outputs": [],
   "source": [
    "import stocksurfer as ss\n",
    "from stocksurfer.technicals import update_all_symbols_data\n",
    "from stocksurfer.filters import *\n",
    "from datetime import datetime"
   ]
  },
  {
   "cell_type": "code",
   "execution_count": 2,
   "metadata": {},
   "outputs": [],
   "source": [
    "# update_all_symbols_data()"
   ]
  },
  {
   "cell_type": "code",
   "execution_count": 7,
   "metadata": {},
   "outputs": [
    {
     "name": "stdout",
     "output_type": "stream",
     "text": [
      "GAEL has a volume surge on 2023-07-14 @ 251.5 -> 1185336\n"
     ]
    }
   ],
   "source": [
    "filter_stocks(\n",
    "    symbols=[\"GAEL\"],\n",
    "    # timeframe=\"weekly\",\n",
    "    # cutoff_date=datetime(2023, 7, 9),\n",
    "    strategy=volume_surge,\n",
    "    # lookback = 5,\n",
    "    # n_detections=1,\n",
    "    strategy_args={\"window\": 15, \"surge_factor\": 4},\n",
    ")"
   ]
  },
  {
   "cell_type": "code",
   "execution_count": null,
   "metadata": {},
   "outputs": [],
   "source": [
    "filter_stocks(\n",
    "    # symbols=\"all\",\n",
    "    # timeframe=\"monthly\",\n",
    "    # cutoff_date=datetime(2023,4, 20),\n",
    "    # lookback=2,\n",
    "    strategy=level_catch,\n",
    "    strategy_args={'level':\"SMA_200_C\"},\n",
    ")"
   ]
  },
  {
   "cell_type": "code",
   "execution_count": null,
   "metadata": {},
   "outputs": [],
   "source": [
    "filter_stocks(\n",
    "    # symbols=\"all\",\n",
    "    # timeframe=\"weekly\",\n",
    "    # cutoff_date=datetime(2023, 4, 11),\n",
    "    strategy=wedge_200_20,\n",
    "    # lookback = 5,\n",
    "    # n_detections=1,\n",
    "    strategy_args={\"window\": 10},\n",
    ")"
   ]
  },
  {
   "cell_type": "code",
   "execution_count": null,
   "metadata": {},
   "outputs": [],
   "source": [
    "filter_stocks(\n",
    "    # symbols=[\"TWL\"],\n",
    "    # timeframe=\"monthly\",\n",
    "    # cutoff_date=datetime(2022,12, 1),\n",
    "    # lookback=3,\n",
    "    strategy=alltime_high,\n",
    ")"
   ]
  }
 ],
 "metadata": {
  "kernelspec": {
   "display_name": "p310_trading",
   "language": "python",
   "name": "python3"
  },
  "language_info": {
   "codemirror_mode": {
    "name": "ipython",
    "version": 3
   },
   "file_extension": ".py",
   "mimetype": "text/x-python",
   "name": "python",
   "nbconvert_exporter": "python",
   "pygments_lexer": "ipython3",
   "version": "3.10.8"
  },
  "orig_nbformat": 4
 },
 "nbformat": 4,
 "nbformat_minor": 2
}
