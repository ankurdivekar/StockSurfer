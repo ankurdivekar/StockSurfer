{
 "cells": [
  {
   "cell_type": "code",
   "execution_count": 1,
   "metadata": {},
   "outputs": [],
   "source": [
    "import stocksurfer as ss\n",
    "from stocksurfer.technicals import update_all_symbols_data\n",
    "from stocksurfer.filters import *\n",
    "from datetime import datetime"
   ]
  },
  {
   "cell_type": "code",
   "execution_count": 2,
   "metadata": {},
   "outputs": [
    {
     "name": "stdout",
     "output_type": "stream",
     "text": [
      "2023-09-14 2023-09-15\n",
      "--------------------------------------------------\n",
      "Fetching data for 2 days\n",
      "File cm14SEP2023bhav.csv.zip already exists.. unzipping\n",
      "File cm15SEP2023bhav.csv.zip already exists.. unzipping\n",
      "Bhavcopy data download complete\n",
      "--------------------------------------------------\n",
      "Getting raw bhavcopy data...\n",
      "Preprocessing data...\n",
      "No new data to update\n"
     ]
    }
   ],
   "source": [
    "update_all_symbols_data()"
   ]
  },
  {
   "cell_type": "code",
   "execution_count": 3,
   "metadata": {},
   "outputs": [
    {
     "name": "stdout",
     "output_type": "stream",
     "text": [
      "current_close=92.95\n",
      "alltime_high=182.75\n",
      "2017-04-25 00:00:00\n"
     ]
    }
   ],
   "source": [
    "def alltime_high_breakout(df, kwargs=None):\n",
    "    window = kwargs[\"window\"] if kwargs and \"window\" in kwargs.keys() else 12\n",
    "\n",
    "    current_close = df.CLOSE.iloc[-1]\n",
    "    window_close_max = df[-window:].CLOSE.max()\n",
    "    alltime_high = df[:-1].HIGH.max()\n",
    "    alltime_high_idx = df[:-1].HIGH.idxmax()\n",
    "\n",
    "    print(f\"{current_close=}\")\n",
    "    print(f\"{alltime_high=}\")\n",
    "    print(f\"{df.iloc[alltime_high_idx].DATE}\")\n",
    "\n",
    "    if all(\n",
    "        [\n",
    "            current_close >= alltime_high,\n",
    "            alltime_high > window_close_max,\n",
    "        ]\n",
    "    ):\n",
    "        print(f\"{df.SYMBOL.iloc[0]} -> All time high on {df.DATE.iloc[-1].date()}\")\n",
    "\n",
    "    last_close = df.CLOSE.iloc[-2]\n",
    "\n",
    "    # if all(conditions):\n",
    "    #     print(f\"{df.SYMBOL.iloc[0]} -> All time high on {df.DATE.iloc[-1].date()}\")\n",
    "    #     return True\n",
    "    # return False\n",
    "\n",
    "\n",
    "filter_stocks(\n",
    "    symbols=[\n",
    "    #     \"HINDCOPPER\",\n",
    "        # \"KALYANKJIL\",\n",
    "        \"BHEL\",\n",
    "    ],\n",
    "    # timeframe=\"monthly\",\n",
    "    cutoff_date=datetime(2023, 7, 6),\n",
    "    # lookback=50,\n",
    "    strategy=alltime_high_breakout,\n",
    "    strategy_args={\"window\": 10},\n",
    ")"
   ]
  },
  {
   "cell_type": "code",
   "execution_count": 4,
   "metadata": {},
   "outputs": [
    {
     "name": "stdout",
     "output_type": "stream",
     "text": [
      "       AXISBANK -> alltime_high on 2023-09-15 @ 1027.15\n",
      "     BAJAJ-AUTO -> alltime_high on 2023-09-15 @ 5130.5\n",
      "       MAHABANK -> alltime_high on 2023-09-15 @ 45.1\n",
      "     BHARTIARTL -> alltime_high on 2023-09-15 @ 936.15\n",
      "           FACT -> alltime_high on 2023-09-15 @ 566.8\n",
      "            IOB -> alltime_high on 2023-09-15 @ 39.5\n",
      "             NH -> alltime_high on 2023-09-15 @ 1111.25\n",
      "Data not found for PATANJALI\n",
      "       TVSMOTOR -> alltime_high on 2023-09-15 @ 1502.9\n",
      "     TRITURBINE -> alltime_high on 2023-09-15 @ 433.35\n",
      "     ULTRACEMCO -> alltime_high on 2023-09-15 @ 8728.35\n",
      "        WELCORP -> alltime_high on 2023-09-15 @ 397.4\n"
     ]
    }
   ],
   "source": [
    "filter_stocks(\n",
    "    # symbols=[\"TWL\"],\n",
    "    # timeframe=\"monthly\",\n",
    "    # cutoff_date=datetime(2023,5, 1),\n",
    "    # lookback=25,\n",
    "    strategy=alltime_high,\n",
    "    strategy_args={'window':10, 'threshold': 4},\n",
    ")"
   ]
  },
  {
   "cell_type": "code",
   "execution_count": 5,
   "metadata": {},
   "outputs": [
    {
     "name": "stdout",
     "output_type": "stream",
     "text": [
      "Data not found for PATANJALI\n"
     ]
    }
   ],
   "source": [
    "filter_stocks(\n",
    "    # symbols=[\"TWL\"],\n",
    "    # timeframe=\"monthly\",\n",
    "    # cutoff_date=datetime(2023,5, 1),\n",
    "    # lookback=25,\n",
    "    strategy=bollinger_squeeze,\n",
    "    strategy_args={'window':10, 'threshold': 4},\n",
    ")"
   ]
  },
  {
   "cell_type": "code",
   "execution_count": 6,
   "metadata": {},
   "outputs": [
    {
     "name": "stdout",
     "output_type": "stream",
     "text": [
      "      GRINDWELL -> bollinger_keltner_breakout on 2023-09-15 @ 2066.2\n",
      "        HDFCAMC -> bollinger_keltner_breakout on 2023-09-15 @ 2726.05\n",
      "      ICICIBANK -> bollinger_keltner_breakout on 2023-09-15 @ 992.45\n",
      "            NCC -> bollinger_keltner_breakout on 2023-09-15 @ 145.35\n",
      "             NH -> bollinger_keltner_breakout on 2023-09-15 @ 1111.25\n",
      "     PNBHOUSING -> bollinger_keltner_breakout on 2023-09-15 @ 719.55\n",
      "Data not found for PATANJALI\n"
     ]
    }
   ],
   "source": [
    "filter_stocks(\n",
    "    # symbols=[\"TWL\"],\n",
    "    # timeframe=\"monthly\",\n",
    "    # cutoff_date=datetime(2022,12, 1),\n",
    "    # lookback=3,\n",
    "    strategy=bollinger_keltner_breakout,\n",
    ")"
   ]
  },
  {
   "cell_type": "code",
   "execution_count": 7,
   "metadata": {},
   "outputs": [
    {
     "name": "stdout",
     "output_type": "stream",
     "text": [
      "         AIAENG -> volume_surge on 2023-09-15 @ 3688.3\n",
      "       APARINDS -> volume_surge on 2023-09-15 @ 5197.65\n",
      "     BAJAJ-AUTO -> volume_surge on 2023-09-15 @ 5130.5\n",
      "           CGCL -> volume_surge on 2023-09-15 @ 767.95\n",
      "     DATAPATTNS -> volume_surge on 2023-09-15 @ 2072.75\n",
      "          GICRE -> volume_surge on 2023-09-15 @ 235.15\n",
      "           HDFC -> volume_surge on 2023-07-12 @ 2724.3\n",
      "     MOTILALOFS -> volume_surge on 2023-09-15 @ 852.75\n",
      "Data not found for PATANJALI\n",
      "        RAINBOW -> volume_surge on 2023-09-15 @ 1025.95\n",
      "            RBA -> volume_surge on 2023-09-15 @ 128.35\n",
      "          NIACL -> volume_surge on 2023-09-15 @ 143.2\n",
      "            TCI -> volume_surge on 2023-09-15 @ 784.8\n",
      "        UCOBANK -> volume_surge on 2023-09-15 @ 40.4\n",
      "         ECLERX -> volume_surge on 2023-09-15 @ 1850.95\n"
     ]
    }
   ],
   "source": [
    "filter_stocks(\n",
    "    # symbols=\"all\",\n",
    "    # timeframe=\"weekly\",\n",
    "    # cutoff_date=datetime(2023, 7, 9),\n",
    "    strategy=volume_surge,\n",
    "    # lookback = 5,\n",
    "    # n_detections=1,\n",
    "    strategy_args={\"window\": 15, \"surge_factor\": 2.5},\n",
    ")"
   ]
  },
  {
   "cell_type": "code",
   "execution_count": 8,
   "metadata": {},
   "outputs": [
    {
     "name": "stdout",
     "output_type": "stream",
     "text": [
      "          AAVAS -> level_catch on 2023-09-15 @ 1674.55\n",
      "       HINDZINC -> level_catch on 2023-09-15 @ 321.5\n",
      "Data not found for PATANJALI\n"
     ]
    }
   ],
   "source": [
    "filter_stocks(\n",
    "    # symbols=\"all\",\n",
    "    # timeframe=\"monthly\",\n",
    "    # cutoff_date=datetime(2023,4, 20),\n",
    "    # lookback=2,\n",
    "    strategy=level_catch,\n",
    "    strategy_args={'level':\"SMA_200_C\"},\n",
    ")"
   ]
  },
  {
   "cell_type": "code",
   "execution_count": 9,
   "metadata": {},
   "outputs": [
    {
     "name": "stdout",
     "output_type": "stream",
     "text": [
      "Data not found for PATANJALI\n"
     ]
    }
   ],
   "source": [
    "filter_stocks(\n",
    "    # symbols=\"all\",\n",
    "    # timeframe=\"weekly\",\n",
    "    # cutoff_date=datetime(2023, 4, 11),\n",
    "    strategy=wedge_200_20,\n",
    "    # lookback = 5,\n",
    "    # n_detections=1,\n",
    "    strategy_args={\"window\": 10},\n",
    ")"
   ]
  },
  {
   "cell_type": "code",
   "execution_count": 10,
   "metadata": {},
   "outputs": [
    {
     "name": "stdout",
     "output_type": "stream",
     "text": [
      "       AXISBANK -> alltime_high on 2023-09-15 @ 1027.15\n",
      "     BAJAJ-AUTO -> alltime_high on 2023-09-15 @ 5130.5\n",
      "       MAHABANK -> alltime_high on 2023-09-15 @ 45.1\n",
      "     BHARTIARTL -> alltime_high on 2023-09-15 @ 936.15\n",
      "           FACT -> alltime_high on 2023-09-15 @ 566.8\n",
      "            IOB -> alltime_high on 2023-09-15 @ 39.5\n",
      "             NH -> alltime_high on 2023-09-15 @ 1111.25\n",
      "Data not found for PATANJALI\n",
      "       TVSMOTOR -> alltime_high on 2023-09-15 @ 1502.9\n",
      "     TRITURBINE -> alltime_high on 2023-09-15 @ 433.35\n",
      "     ULTRACEMCO -> alltime_high on 2023-09-15 @ 8728.35\n",
      "        WELCORP -> alltime_high on 2023-09-15 @ 397.4\n"
     ]
    }
   ],
   "source": [
    "filter_stocks(\n",
    "    # symbols=[\"TWL\"],\n",
    "    # timeframe=\"monthly\",\n",
    "    # cutoff_date=datetime(2022,12, 1),\n",
    "    # lookback=3,\n",
    "    strategy=alltime_high,\n",
    ")"
   ]
  }
 ],
 "metadata": {
  "kernelspec": {
   "display_name": "p310_trading",
   "language": "python",
   "name": "python3"
  },
  "language_info": {
   "codemirror_mode": {
    "name": "ipython",
    "version": 3
   },
   "file_extension": ".py",
   "mimetype": "text/x-python",
   "name": "python",
   "nbconvert_exporter": "python",
   "pygments_lexer": "ipython3",
   "version": "3.10.8"
  },
  "orig_nbformat": 4
 },
 "nbformat": 4,
 "nbformat_minor": 2
}
